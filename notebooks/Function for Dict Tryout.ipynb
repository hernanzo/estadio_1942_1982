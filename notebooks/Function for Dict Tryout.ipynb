{
 "cells": [
  {
   "cell_type": "code",
   "execution_count": 2,
   "id": "8468b810",
   "metadata": {},
   "outputs": [
    {
     "name": "stderr",
     "output_type": "stream",
     "text": [
      "[nltk_data] Downloading package stopwords to\n",
      "[nltk_data]     /Users/hernanadasme/nltk_data...\n",
      "[nltk_data]   Package stopwords is already up-to-date!\n",
      "[nltk_data] Downloading package punkt to\n",
      "[nltk_data]     /Users/hernanadasme/nltk_data...\n",
      "[nltk_data]   Package punkt is already up-to-date!\n"
     ]
    }
   ],
   "source": [
    "import nltk\n",
    "nltk.download('stopwords')\n",
    "nltk.download('punkt')\n",
    "import nltk\n",
    "from nltk.corpus import stopwords\n",
    "from nltk.stem import PorterStemmer\n",
    "from nltk.tokenize import word_tokenize\n",
    "import re\n",
    "import numpy as np\n",
    "import pickle"
   ]
  },
  {
   "cell_type": "code",
   "execution_count": 3,
   "id": "0958ce63",
   "metadata": {},
   "outputs": [],
   "source": [
    "tokens_eng = ['fighter', 'training', 'centerforward', 'chance', 'sprinter', 'ring', 'lineman', 'line',\n",
    "              'pitchers', 'forward', 'tackle', 'shot', 'kick', 'out', 'single', 'crack', 'referee', \n",
    "              'sport', 'boxing', 'player', 'standard', 'knockout', 'score', 'team', 'teams','elgoal', \n",
    "              'jersey', 'coach', 'handicap', 'catch', 'dribbling', 'record', 'shoot', 'back', \n",
    "              'insider', 'winger', 'players', 'field', 'shortstop', \n",
    "              'second', 'ranking', 'match', 'club', 'games', 'centroforward', 'foul']"
   ]
  },
  {
   "cell_type": "code",
   "execution_count": 4,
   "id": "92e63a51",
   "metadata": {},
   "outputs": [],
   "source": [
    "#creating the list of spanish terms \n",
    "tokens_esp = ['boxeador', 'entrenamiento','centrodelantero','opción','velocista', 'cuadrilátero', 'guardalínea', 'línea',\n",
    "                 'lanzador', 'delantero', 'barrida', 'disparo', 'tiro', 'fuera', 'individual', 'estrella', 'arbitro',\n",
    "                 'deporte', 'boxeo', 'jugador', 'estandar', 'nocaut', 'marcador', 'equipo', 'equipos','gol', \n",
    "                 'camiseta', 'entrenador', 'desventaja', 'atrapar', 'esquivar', 'registro', 'disparar', 'defensa', \n",
    "                 'interior', 'lateral', 'jugadores', 'cancha', 'parada', 'asistente', 'clasificación', \n",
    "              'partido', 'institución', 'juegos', 'goleador', 'infracción']"
   ]
  },
  {
   "cell_type": "code",
   "execution_count": null,
   "id": "bf0172f0",
   "metadata": {},
   "outputs": [],
   "source": [
    "def create_dictionaries(pdf_dir, txt_dir):\n",
    "     for filename in os.listdir(txt_dir):\n",
    "        #counting ENG words in the cleaned txt and creating a dictionary with words and counts\n",
    "        counts_english_15_27_1942  = {}\n",
    "        for token in tokens_eng:\n",
    "            count =  cleaned_estadio_15_27_1942.count(token)\n",
    "            counts_english_15_27_1942[token] = count\n",
    "            with open(\"/Users/hernanadasme/Projects/estadio_1940_1980/dictionaries_1940_1982/dictionaries_1942_1949/counts_english_15_27_1942.pickle\", 'wb') as f:\n",
    "    #Write the dictionary to the file using pickle.dump\n",
    "                pickle.dump(counts_english_15_27_1942, f)"
   ]
  },
  {
   "cell_type": "code",
   "execution_count": null,
   "id": "b2c61a30",
   "metadata": {},
   "outputs": [],
   "source": [
    "#counting ENG words in the cleaned txt and creating a dictionary with words and counts\n",
    "counts_english_15_27_1942  = {}\n",
    "for token in tokens_eng:\n",
    "    count =  cleaned_estadio_15_27_1942.count(token)\n",
    "    counts_english_15_27_1942[token] = count\n",
    "len(counts_english_15_27_1942)"
   ]
  }
 ],
 "metadata": {
  "kernelspec": {
   "display_name": "Python 3 (ipykernel)",
   "language": "python",
   "name": "python3"
  },
  "language_info": {
   "codemirror_mode": {
    "name": "ipython",
    "version": 3
   },
   "file_extension": ".py",
   "mimetype": "text/x-python",
   "name": "python",
   "nbconvert_exporter": "python",
   "pygments_lexer": "ipython3",
   "version": "3.9.7"
  }
 },
 "nbformat": 4,
 "nbformat_minor": 5
}
