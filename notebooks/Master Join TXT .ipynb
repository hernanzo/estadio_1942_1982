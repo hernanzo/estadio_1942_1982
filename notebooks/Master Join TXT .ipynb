{
 "cells": [
  {
   "cell_type": "code",
   "execution_count": 3,
   "id": "f381706d",
   "metadata": {},
   "outputs": [],
   "source": [
    "import re"
   ]
  },
  {
   "cell_type": "code",
   "execution_count": 107,
   "id": "263a5b04",
   "metadata": {},
   "outputs": [],
   "source": [
    "# Open the first file in read mode\n",
    "with open('/Users/hernanadasme/Projects/estadio_1940_1980/estadio_txt/1940_1949/estadio_59_75_1944_1.txt', 'r') as file1:\n",
    "    data1 = file1.read()\n",
    "\n",
    "# Open the second file in read mode\n",
    "with open('/Users/hernanadasme/Projects/estadio_1940_1980/estadio_txt/1940_1949/estadio_76_86_1944.txt', 'r') as file2:\n",
    "    data2 = file2.read()\n",
    "\n",
    "    \n",
    "# Open the second file in read mode\n",
    "#with open('/Users/hernanadasme/Projects/estadio_1940_1980/estadio_txt/1970_1979/estadio_1409_1421_1970_2.txt', 'r') as file3:\n",
    "    #data3 = file3.read()\n",
    "     "
   ]
  },
  {
   "cell_type": "code",
   "execution_count": 108,
   "id": "ab530523",
   "metadata": {},
   "outputs": [],
   "source": [
    "# Concatenate the two files\n",
    "data = data1 + \"\\n\" + data2"
   ]
  },
  {
   "cell_type": "code",
   "execution_count": 109,
   "id": "6efd5035",
   "metadata": {},
   "outputs": [],
   "source": [
    "#save to selected path\n",
    "path = r'/Users/hernanadasme/Projects/estadio_1940_1980/estadio_txt/1940_1949/estadio_70_86_1944.txt'\n",
    "\n",
    "with open(path, 'w') as txt_file:\n",
    "    txt_file.write(data)"
   ]
  },
  {
   "cell_type": "code",
   "execution_count": null,
   "id": "d16a5a0f",
   "metadata": {},
   "outputs": [],
   "source": []
  }
 ],
 "metadata": {
  "kernelspec": {
   "display_name": "Python 3 (ipykernel)",
   "language": "python",
   "name": "python3"
  },
  "language_info": {
   "codemirror_mode": {
    "name": "ipython",
    "version": 3
   },
   "file_extension": ".py",
   "mimetype": "text/x-python",
   "name": "python",
   "nbconvert_exporter": "python",
   "pygments_lexer": "ipython3",
   "version": "3.9.7"
  }
 },
 "nbformat": 4,
 "nbformat_minor": 5
}
