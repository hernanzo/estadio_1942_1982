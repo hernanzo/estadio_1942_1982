{
 "cells": [
  {
   "cell_type": "code",
   "execution_count": 1,
   "id": "9ef502ff",
   "metadata": {},
   "outputs": [],
   "source": [
    "import PyPDF2\n",
    "import os"
   ]
  },
  {
   "cell_type": "code",
   "execution_count": 2,
   "id": "647437ea",
   "metadata": {},
   "outputs": [],
   "source": [
    "def extract_pdf_text(pdf_dir, txt_dir):\n",
    "    for filename in os.listdir(pdf_dir):\n",
    "        if filename.endswith('.pdf'):\n",
    "            pdf_path = os.path.join(pdf_dir, filename)\n",
    "            txt_path = os.path.join(txt_dir, filename[:-4] + '.txt')\n",
    "            with open(pdf_path, 'rb') as pdf_file:\n",
    "                pdf_reader = PyPDF2.PdfReader(pdf_file)\n",
    "                estadio_text = \"\"\n",
    "                for page in pdf_reader.pages:\n",
    "                    estadio_text += page.extract_text()\n",
    "                with open(txt_path, 'w') as txt_file:\n",
    "                    txt_file.write(estadio_text)"
   ]
  },
  {
   "cell_type": "code",
   "execution_count": 3,
   "id": "8a7c93fb",
   "metadata": {},
   "outputs": [],
   "source": [
    "pdf_path = r'/Users/hernanadasme/Projects/estadio_1940_1980/estadio_pdfs/split_pdfs_1958'\n",
    "txt_path = r'/Users/hernanadasme/Projects/estadio_1940_1980/estadio_pdfs/split_pdf_totxt_1958'\n",
    "extract_pdf_text(pdf_path, txt_path)\n"
   ]
  }
 ],
 "metadata": {
  "kernelspec": {
   "display_name": "Python 3 (ipykernel)",
   "language": "python",
   "name": "python3"
  },
  "language_info": {
   "codemirror_mode": {
    "name": "ipython",
    "version": 3
   },
   "file_extension": ".py",
   "mimetype": "text/x-python",
   "name": "python",
   "nbconvert_exporter": "python",
   "pygments_lexer": "ipython3",
   "version": "3.9.7"
  }
 },
 "nbformat": 4,
 "nbformat_minor": 5
}
