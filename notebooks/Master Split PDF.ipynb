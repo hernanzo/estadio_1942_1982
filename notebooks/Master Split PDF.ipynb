{
 "cells": [
  {
   "cell_type": "code",
   "execution_count": 4,
   "id": "e780158b",
   "metadata": {},
   "outputs": [],
   "source": [
    "import os\n",
    "from PyPDF2 import PdfReader, PdfWriter"
   ]
  },
  {
   "cell_type": "code",
   "execution_count": 9,
   "id": "84608483",
   "metadata": {},
   "outputs": [
    {
     "name": "stdout",
     "output_type": "stream",
     "text": [
      "PDF files saved to output directory\n"
     ]
    }
   ],
   "source": [
    "# Open the PDF file\n",
    "input_file_path = '/Users/hernanadasme/Projects/estadio_1940_1980/estadio_pdfs/estadio_pdf_1950_1959/estadio_788_813_04_07_24_12_1958.pdf'\n",
    "output_dir = r'/Users/hernanadasme/Projects/estadio_1940_1980/estadio_pdfs/split_pdfs_1958'\n",
    "\n",
    "# Open the input PDF file\n",
    "with open(input_file_path, 'rb') as input_file:\n",
    "    pdf_reader = PdfReader(input_file)\n",
    "\n",
    "    # Loop through each page in the input PDF file\n",
    "    for page_num in range(len(pdf_reader.pages)):\n",
    "        # Create a new PDF file for the current page\n",
    "        pdf_writer = PdfWriter()\n",
    "        pdf_writer.add_page(pdf_reader.pages[page_num])\n",
    "\n",
    "        # Write the new PDF file to disk in the output directory\n",
    "        output_file_path = os.path.join(output_dir, f'output_{page_num}.pdf')\n",
    "        with open(output_file_path, 'wb') as output_file:\n",
    "            pdf_writer.write(output_file)\n",
    "\n",
    "print('PDF files saved to output directory')"
   ]
  },
  {
   "cell_type": "code",
   "execution_count": null,
   "id": "4b93d8fb",
   "metadata": {},
   "outputs": [],
   "source": [
    "#save to selected path\n",
    "path = r'/Users/hernanadasme/Projects/estadio_1940_1980/estadio_txt/1980_1982/estadio_2004_2016_1982.txt'\n",
    "\n",
    "with open(path, 'w') as txt_file:\n",
    "    txt_file.write(estadio_2004_2016_1982)"
   ]
  }
 ],
 "metadata": {
  "kernelspec": {
   "display_name": "Python 3 (ipykernel)",
   "language": "python",
   "name": "python3"
  },
  "language_info": {
   "codemirror_mode": {
    "name": "ipython",
    "version": 3
   },
   "file_extension": ".py",
   "mimetype": "text/x-python",
   "name": "python",
   "nbconvert_exporter": "python",
   "pygments_lexer": "ipython3",
   "version": "3.9.7"
  }
 },
 "nbformat": 4,
 "nbformat_minor": 5
}
