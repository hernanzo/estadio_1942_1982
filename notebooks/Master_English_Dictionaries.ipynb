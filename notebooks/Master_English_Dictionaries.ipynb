{
 "cells": [
  {
   "cell_type": "markdown",
   "id": "3768fa98",
   "metadata": {},
   "source": [
    "**Creating a Dictionary of English Terms**"
   ]
  },
  {
   "cell_type": "markdown",
   "id": "5aab6e41",
   "metadata": {},
   "source": [
    "Loading libraries"
   ]
  },
  {
   "cell_type": "code",
   "execution_count": 11,
   "id": "db87a201",
   "metadata": {},
   "outputs": [
    {
     "name": "stderr",
     "output_type": "stream",
     "text": [
      "/opt/anaconda3/lib/python3.9/site-packages/scipy/__init__.py:146: UserWarning: A NumPy version >=1.16.5 and <1.23.0 is required for this version of SciPy (detected version 1.24.0\n",
      "  warnings.warn(f\"A NumPy version >={np_minversion} and <{np_maxversion}\"\n",
      "[nltk_data] Downloading package stopwords to\n",
      "[nltk_data]     /Users/hernanadasme/nltk_data...\n",
      "[nltk_data]   Package stopwords is already up-to-date!\n",
      "[nltk_data] Downloading package punkt to\n",
      "[nltk_data]     /Users/hernanadasme/nltk_data...\n",
      "[nltk_data]   Package punkt is already up-to-date!\n"
     ]
    }
   ],
   "source": [
    "import nltk\n",
    "nltk.download('stopwords')\n",
    "nltk.download('punkt')\n",
    "import nltk\n",
    "from nltk.corpus import stopwords\n",
    "from nltk.stem import PorterStemmer\n",
    "from nltk.tokenize import word_tokenize\n",
    "import re\n",
    "import numpy as np\n",
    "import pickle"
   ]
  },
  {
   "cell_type": "markdown",
   "id": "91e93167",
   "metadata": {},
   "source": [
    "**Creating the dictionary of enlgish terms to search for**"
   ]
  },
  {
   "cell_type": "code",
   "execution_count": 1,
   "id": "1e7cb9a2",
   "metadata": {},
   "outputs": [],
   "source": [
    "tokens_eng = ['fighter', 'training', 'centerforward', 'chance', 'sprinter', 'ring', 'lineman', 'line',\n",
    "              'pitchers', 'forward', 'tackle', 'shot', 'kick', 'out', 'single', 'crack', 'referee', \n",
    "              'sport', 'boxing', 'player', 'standard', 'knockout', 'score', 'team', 'teams','elgoal', \n",
    "              'jersey', 'coach', 'handicap', 'catch', 'dribbling', 'record', 'shoot', 'back', \n",
    "              'insider', 'winger', 'players', 'field', 'shortstop', \n",
    "              'second', 'ranking', 'match', 'club', 'games', 'centroforward', 'foul']"
   ]
  },
  {
   "cell_type": "code",
   "execution_count": 2,
   "id": "f9c7a526",
   "metadata": {},
   "outputs": [],
   "source": [
    "#creating the list of spanish terms \n",
    "tokens_esp = ['boxeador', 'entrenamiento','centrodelantero','opción','velocista', 'cuadrilátero', 'guardalínea', 'línea',\n",
    "                 'lanzador', 'delantero', 'barrida', 'disparo', 'tiro', 'fuera', 'individual', 'estrella', 'arbitro',\n",
    "                 'deporte', 'boxeo', 'jugador', 'estandar', 'nocaut', 'marcador', 'equipo', 'equipos','gol', \n",
    "                 'camiseta', 'entrenador', 'desventaja', 'atrapar', 'esquivar', 'registro', 'disparar', 'defensa', \n",
    "                 'interior', 'lateral', 'jugadores', 'cancha', 'parada', 'asistente', 'clasificación', \n",
    "              'partido', 'institución', 'juegos', 'goleador', 'infracción']"
   ]
  },
  {
   "cell_type": "markdown",
   "id": "f0dc69f1",
   "metadata": {},
   "source": [
    "**Loading txt file from directory**"
   ]
  },
  {
   "cell_type": "code",
   "execution_count": 281,
   "id": "1e473b98",
   "metadata": {},
   "outputs": [],
   "source": [
    "with open(r'/Users/hernanadasme/Projects/estadio_1940_1980/estadio_txt/cleaned_notebook_1980_1982/estadio_2004_2016_1982.txt', encoding='utf-8-sig') as es_1982: \n",
    "    estadio_2004_2016_1982 = es_1982.read()"
   ]
  },
  {
   "cell_type": "code",
   "execution_count": 282,
   "id": "60fec802",
   "metadata": {},
   "outputs": [
    {
     "data": {
      "text/plain": [
       "46"
      ]
     },
     "execution_count": 282,
     "metadata": {},
     "output_type": "execute_result"
    }
   ],
   "source": [
    "#counting ENG words in the cleaned txt and creating a dictionary with words and counts\n",
    "counts_english_2004_2016_1982  = {}\n",
    "for token in tokens_eng:\n",
    "    count =  estadio_2004_2016_1982.count(token)\n",
    "    counts_english_2004_2016_1982[token] = count\n",
    "len(counts_english_2004_2016_1982)"
   ]
  },
  {
   "cell_type": "code",
   "execution_count": 283,
   "id": "8fd23c7e",
   "metadata": {},
   "outputs": [
    {
     "data": {
      "text/plain": [
       "46"
      ]
     },
     "execution_count": 283,
     "metadata": {},
     "output_type": "execute_result"
    }
   ],
   "source": [
    "#counting ENG words in the cleaned txt and creating a dictionary with words and counts\n",
    "counts_spanish_2004_2016_1982 = {}\n",
    "for t in tokens_esp:\n",
    "    counter =  estadio_2004_2016_1982.count(t)\n",
    "    counts_spanish_2004_2016_1982[t] = counter\n",
    "len(counts_spanish_2004_2016_1982)"
   ]
  },
  {
   "cell_type": "code",
   "execution_count": 284,
   "id": "faec3c96",
   "metadata": {},
   "outputs": [
    {
     "data": {
      "text/plain": [
       "{'fighter': 0,\n",
       " 'training': 0,\n",
       " 'centerforward': 0,\n",
       " 'chance': 6,\n",
       " 'sprinter': 0,\n",
       " 'ring': 89,\n",
       " 'lineman': 0,\n",
       " 'line': 135,\n",
       " 'pitchers': 0,\n",
       " 'forward': 1,\n",
       " 'tackle': 0,\n",
       " 'shot': 5,\n",
       " 'kick': 3,\n",
       " 'out': 29,\n",
       " 'single': 19,\n",
       " 'crack': 67,\n",
       " 'referee': 0,\n",
       " 'sport': 42,\n",
       " 'boxing': 1,\n",
       " 'player': 1,\n",
       " 'standard': 1,\n",
       " 'knockout': 0,\n",
       " 'score': 19,\n",
       " 'team': 85,\n",
       " 'teams': 0,\n",
       " 'elgoal': 0,\n",
       " 'jersey': 0,\n",
       " 'coach': 3,\n",
       " 'handicap': 4,\n",
       " 'catch': 1,\n",
       " 'dribbling': 2,\n",
       " 'record': 135,\n",
       " 'shoot': 0,\n",
       " 'back': 1,\n",
       " 'insider': 0,\n",
       " 'winger': 0,\n",
       " 'players': 0,\n",
       " 'field': 14,\n",
       " 'shortstop': 0,\n",
       " 'second': 2,\n",
       " 'ranking': 59,\n",
       " 'match': 50,\n",
       " 'club': 550,\n",
       " 'games': 0,\n",
       " 'centroforward': 0,\n",
       " 'foul': 34}"
      ]
     },
     "execution_count": 284,
     "metadata": {},
     "output_type": "execute_result"
    }
   ],
   "source": [
    "counts_english_2004_2016_1982"
   ]
  },
  {
   "cell_type": "markdown",
   "id": "229d4727",
   "metadata": {},
   "source": [
    "**Differences with the uncleaned**"
   ]
  },
  {
   "cell_type": "code",
   "execution_count": 32,
   "id": "64902eb1",
   "metadata": {},
   "outputs": [],
   "source": [
    "#with open(r'/Users/hernanadasme/Projects/estadio_1940_1980/estadio_txt/cleaned_1950_1959/cleaned_estadio_529_554_1953.txt', encoding='utf-8-sig') as es_dirt_1943: \n",
    "    #es_dirt_15_27_1942 = es_dirt_1942.read()"
   ]
  },
  {
   "cell_type": "code",
   "execution_count": 33,
   "id": "8dfdd3a4",
   "metadata": {
    "collapsed": true
   },
   "outputs": [
    {
     "data": {
      "text/plain": [
       "{'fighter': 0,\n",
       " 'training': 3,\n",
       " 'centerforward': 0,\n",
       " 'chance': 15,\n",
       " 'sprinter': 10,\n",
       " 'ring': 71,\n",
       " 'lineman': 0,\n",
       " 'line': 34,\n",
       " 'pitchers': 0,\n",
       " 'forward': 19,\n",
       " 'tackle': 0,\n",
       " 'shot': 14,\n",
       " 'kick': 0,\n",
       " 'out': 16,\n",
       " 'single': 14,\n",
       " 'crack': 129,\n",
       " 'referee': 1,\n",
       " 'sport': 12,\n",
       " 'boxing': 0,\n",
       " 'player': 10,\n",
       " 'standard': 7,\n",
       " 'knockout': 1,\n",
       " 'score': 58,\n",
       " 'team': 348,\n",
       " 'teams': 60,\n",
       " 'elgoal': 1,\n",
       " 'jersey': 0,\n",
       " 'coach': 10,\n",
       " 'handicap': 2,\n",
       " 'catch': 2,\n",
       " 'dribble': 0,\n",
       " 'record': 151,\n",
       " 'shoot': 1,\n",
       " 'back': 38,\n",
       " 'insider': 15,\n",
       " 'winger': 3,\n",
       " 'players': 4,\n",
       " 'field': 41,\n",
       " 'shortstop': 0,\n",
       " 'second': 6,\n",
       " 'ranking': 5,\n",
       " 'match': 211,\n",
       " 'club': 206,\n",
       " 'games': 3,\n",
       " 'centroforward': 8,\n",
       " 'foul': 5}"
      ]
     },
     "execution_count": 33,
     "metadata": {},
     "output_type": "execute_result"
    }
   ],
   "source": [
    "#counting ENG words in the cleaned txt and creating a dictionary with words and counts\n",
    "#counts_english_dirty = {}\n",
    "#for token in tokens_eng:\n",
    "    #count =  es_dirt_15_27_1942.count(token)\n",
    "    #counts_english_dirty[token] = count\n",
    "#counts_english_dirty"
   ]
  },
  {
   "cell_type": "markdown",
   "id": "6ee0a444",
   "metadata": {},
   "source": [
    "**Saving a dictionary into a directory**"
   ]
  },
  {
   "cell_type": "code",
   "execution_count": 285,
   "id": "1cac9b87",
   "metadata": {},
   "outputs": [],
   "source": [
    "#Open a file in write mode for the english dict\n",
    "with open(\"/Users/hernanadasme/Projects/estadio_1940_1980/dictionaries_notebook_1942_1982/dict_eng_1980_1982/counts_english_2004_2016_1982.pickle\", 'wb') as f:\n",
    "    #Write the dictionary to the file using pickle.dump\n",
    "    pickle.dump(counts_english_2004_2016_1982, f)"
   ]
  },
  {
   "cell_type": "code",
   "execution_count": 286,
   "id": "e938ea73",
   "metadata": {},
   "outputs": [],
   "source": [
    "# Open a file in write mode for the spanish dict\n",
    "with open(\"/Users/hernanadasme/Projects/estadio_1940_1980/dictionaries_notebook_1942_1982/dict_esp_1980_1982/counts_spanish_2004_2016_1982.pickle\", 'wb') as e:\n",
    "    # Write the dictionary to the file using pickle.dump\n",
    "    pickle.dump(counts_spanish_2004_2016_1982, e)"
   ]
  },
  {
   "cell_type": "markdown",
   "id": "9cd46570",
   "metadata": {},
   "source": [
    "**Opening a dictionary to double check**"
   ]
  },
  {
   "cell_type": "code",
   "execution_count": 338,
   "id": "00f4b855",
   "metadata": {},
   "outputs": [
    {
     "name": "stdout",
     "output_type": "stream",
     "text": [
      "46\n"
     ]
    }
   ],
   "source": [
    "# Open the file in read mode\n",
    "with open('/Users/hernanadasme/Projects/estadio_1940_1980/dictionaries_1940_1982/dictionaries_1942_1949/counts_spanish_15_27_1942.pickle', 'rb') as f:\n",
    "    # Load the dictionary from the file using pickle.load\n",
    "    counts_spanish_15_27_1942 = pickle.load(f)\n",
    "\n",
    "print(len(counts_spanish_15_27_1942))"
   ]
  }
 ],
 "metadata": {
  "kernelspec": {
   "display_name": "Python 3 (ipykernel)",
   "language": "python",
   "name": "python3"
  },
  "language_info": {
   "codemirror_mode": {
    "name": "ipython",
    "version": 3
   },
   "file_extension": ".py",
   "mimetype": "text/x-python",
   "name": "python",
   "nbconvert_exporter": "python",
   "pygments_lexer": "ipython3",
   "version": "3.9.7"
  }
 },
 "nbformat": 4,
 "nbformat_minor": 5
}
