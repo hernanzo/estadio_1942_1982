{
 "cells": [
  {
   "cell_type": "markdown",
   "id": "ff60f8e9",
   "metadata": {},
   "source": [
    "**Master Tokenizer**"
   ]
  },
  {
   "cell_type": "code",
   "execution_count": 6,
   "id": "5d4cd120",
   "metadata": {},
   "outputs": [],
   "source": [
    "import PyPDF2\n",
    "import os"
   ]
  },
  {
   "cell_type": "markdown",
   "id": "c573b176",
   "metadata": {},
   "source": [
    "**Import pdf file from directory**\n",
    "\n",
    ">This line of code takes the pdf file from the directory and opens it using the pdf_reader. "
   ]
  },
  {
   "cell_type": "code",
   "execution_count": 139,
   "id": "221c9a21",
   "metadata": {},
   "outputs": [
    {
     "data": {
      "text/plain": [
       "1032"
      ]
     },
     "execution_count": 139,
     "metadata": {},
     "output_type": "execute_result"
    }
   ],
   "source": [
    "#open the pdf from directory #add the direcory\n",
    "pdf_file = open(r'/Users/hernanadasme/Projects/estadio_1940_1980/estadio_pdfs/estadio_pdf_1980_1982/estadio_2004_2016_05_01_30_03_1982.pdf', 'rb')\n",
    "pdf_reader = PyPDF2.PdfReader(pdf_file)\n",
    "len(pdf_reader.pages)"
   ]
  },
  {
   "cell_type": "markdown",
   "id": "a6f0e30c",
   "metadata": {},
   "source": [
    "**From pdf to txt**\n",
    "\n",
    ">This line of code extracts the text from the pdf_reader and creates a txt file called `estadio_43_59_1943`"
   ]
  },
  {
   "cell_type": "code",
   "execution_count": 140,
   "id": "092ca8f5",
   "metadata": {},
   "outputs": [],
   "source": [
    "#select the same name in the filepath\n",
    "estadio_2004_2016_1982 = \"\"\n",
    "\n",
    "for page in pdf_reader.pages:\n",
    "    estadio_2004_2016_1982 += page.extract_text()"
   ]
  },
  {
   "cell_type": "markdown",
   "id": "38af0c53",
   "metadata": {},
   "source": [
    "**Saving the file**"
   ]
  },
  {
   "cell_type": "code",
   "execution_count": 141,
   "id": "f3c776f8",
   "metadata": {},
   "outputs": [],
   "source": [
    "#save to selected path\n",
    "path = r'/Users/hernanadasme/Projects/estadio_1940_1980/estadio_txt/1980_1982/estadio_2004_2016_1982.txt'\n",
    "\n",
    "with open(path, 'w') as txt_file:\n",
    "    txt_file.write(estadio_2004_2016_1982)"
   ]
  }
 ],
 "metadata": {
  "kernelspec": {
   "display_name": "Python 3 (ipykernel)",
   "language": "python",
   "name": "python3"
  },
  "language_info": {
   "codemirror_mode": {
    "name": "ipython",
    "version": 3
   },
   "file_extension": ".py",
   "mimetype": "text/x-python",
   "name": "python",
   "nbconvert_exporter": "python",
   "pygments_lexer": "ipython3",
   "version": "3.9.7"
  }
 },
 "nbformat": 4,
 "nbformat_minor": 5
}
