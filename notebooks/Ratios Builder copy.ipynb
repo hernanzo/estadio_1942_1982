{
 "cells": [
  {
   "cell_type": "code",
   "execution_count": 1,
   "id": "36817c1c",
   "metadata": {},
   "outputs": [
    {
     "name": "stderr",
     "output_type": "stream",
     "text": [
      "/opt/anaconda3/lib/python3.9/site-packages/scipy/__init__.py:146: UserWarning: A NumPy version >=1.16.5 and <1.23.0 is required for this version of SciPy (detected version 1.24.0\n",
      "  warnings.warn(f\"A NumPy version >={np_minversion} and <{np_maxversion}\"\n"
     ]
    }
   ],
   "source": [
    "from pathlib import Path\n",
    "import os\n",
    "import glob\n",
    "import pickle\n",
    "import pandas as pd\n",
    "from wordcloud import WordCloud\n",
    "import matplotlib.pyplot as plt\n",
    "import seaborn as sns"
   ]
  },
  {
   "cell_type": "markdown",
   "id": "93f1f587",
   "metadata": {},
   "source": [
    "**Building Ratios**"
   ]
  },
  {
   "cell_type": "markdown",
   "id": "333a940e",
   "metadata": {},
   "source": [
    "Opening spanish dictionaries"
   ]
  },
  {
   "cell_type": "code",
   "execution_count": 7,
   "id": "3fb6f76a",
   "metadata": {},
   "outputs": [],
   "source": [
    "path = '/Users/hernanadasme/Projects/estadio_1940_1980/dictionaries_1940_1982/dictionaries_1942_1949_esp/*.pickle'\n",
    "dict_1942_1949_esp = {}\n",
    "\n",
    "for file_name in glob.glob(path):\n",
    "    with open(file_name, 'rb') as f:\n",
    "        # Load the dictionary from the file using pickle.load\n",
    "        my_dictionary = pickle.load(f)\n",
    "        \n",
    "        # Create a global variable with the same name as the file name\n",
    "        var_name = file_name.split('/')[-1].replace('.pickle', '') # extract file name from path\n",
    "        dict_1942_1949_esp[var_name] = my_dictionary "
   ]
  },
  {
   "cell_type": "markdown",
   "id": "d8d676f3",
   "metadata": {},
   "source": [
    "Opening english dictionaries"
   ]
  },
  {
   "cell_type": "code",
   "execution_count": 10,
   "id": "0b1c1171",
   "metadata": {},
   "outputs": [],
   "source": [
    "path = '/Users/hernanadasme/Projects/estadio_1940_1980/dictionaries_1940_1982/dictionaries_1942_1949_eng/*.pickle'\n",
    "dict_1942_1949_eng = {}\n",
    "\n",
    "for file_name in glob.glob(path):\n",
    "    with open(file_name, 'rb') as f:\n",
    "        # Load the dictionary from the file using pickle.load\n",
    "        my_dictionary = pickle.load(f)\n",
    "        \n",
    "        # Create a global variable with the same name as the file name\n",
    "        var_name = file_name.split('/')[-1].replace('.pickle', '') # extract file name from path\n",
    "        dict_1942_1949_eng[var_name] = my_dictionary"
   ]
  },
  {
   "cell_type": "code",
   "execution_count": 33,
   "id": "62a46b68",
   "metadata": {},
   "outputs": [
    {
     "name": "stdout",
     "output_type": "stream",
     "text": [
      "counts_spanish_43_59_1943 {'boxeador': 82, 'entrenamiento': 79, 'centrodelantero': 48, 'opción': 16, 'velocista': 13, 'cuadrilátero': 8, 'guardalínea': 1, 'línea': 196, 'lanzador': 13, 'delantero': 163, 'barrida': 0, 'disparo': 3, 'tiro': 98, 'fuera': 181, 'individual': 55, 'estrella': 17, 'arbitro': 113, 'deporte': 521, 'boxeo': 40, 'jugador': 646, 'estandar': 2, 'nocaut': 3, 'marcador': 26, 'equipo': 925, 'equipos': 0, 'gol': 682, 'camiseta': 38, 'entrenador': 102, 'desventaja': 11, 'atrapar': 5, 'esquivar': 8, 'registro': 3, 'disparar': 2, 'defensa': 304, 'interior': 73, 'lateral': 8, 'jugadores': 0, 'cancha': 480, 'parada': 56, 'asistente': 17, 'clasificación': 23, 'partido': 503, 'institución': 67, 'juegos': 33, 'goleador': 0, 'infracción': 3}\n",
      "counts_spanish_76_86_1944 {'boxeador': 38, 'entrenamiento': 43, 'centrodelantero': 16, 'opción': 35, 'velocista': 13, 'cuadrilátero': 1, 'guardalínea': 2, 'línea': 101, 'lanzador': 7, 'delantero': 76, 'barrida': 0, 'disparo': 1, 'tiro': 59, 'fuera': 99, 'individual': 38, 'estrella': 26, 'arbitro': 94, 'deporte': 245, 'boxeo': 40, 'jugador': 401, 'estandar': 1, 'nocaut': 0, 'marcador': 24, 'equipo': 530, 'equipos': 0, 'gol': 383, 'camiseta': 21, 'entrenador': 117, 'desventaja': 13, 'atrapar': 1, 'esquivar': 2, 'registro': 9, 'disparar': 5, 'defensa': 170, 'interior': 23, 'lateral': 6, 'jugadores': 0, 'cancha': 282, 'parada': 18, 'asistente': 7, 'clasificación': 11, 'partido': 267, 'institución': 25, 'juegos': 27, 'goleador': 0, 'infracción': 4}\n",
      "counts_spanish_173_189_1946 {'boxeador': 66, 'entrenamiento': 76, 'centrodelantero': 35, 'opción': 36, 'velocista': 8, 'cuadrilátero': 5, 'guardalínea': 3, 'línea': 137, 'lanzador': 12, 'delantero': 110, 'barrida': 0, 'disparo': 7, 'tiro': 121, 'fuera': 184, 'individual': 48, 'estrella': 37, 'arbitro': 205, 'deporte': 367, 'boxeo': 171, 'jugador': 413, 'estandar': 2, 'nocaut': 0, 'marcador': 28, 'equipo': 582, 'equipos': 0, 'gol': 784, 'camiseta': 65, 'entrenador': 112, 'desventaja': 8, 'atrapar': 1, 'esquivar': 9, 'registro': 20, 'disparar': 5, 'defensa': 282, 'interior': 20, 'lateral': 15, 'jugadores': 0, 'cancha': 404, 'parada': 45, 'asistente': 6, 'clasificación': 23, 'partido': 298, 'institución': 16, 'juegos': 81, 'goleador': 0, 'infracción': 5}\n",
      "counts_spanish_225_241_1947 {'boxeador': 49, 'entrenamiento': 64, 'centrodelantero': 58, 'opción': 37, 'velocista': 6, 'cuadrilátero': 2, 'guardalínea': 1, 'línea': 180, 'lanzador': 10, 'delantero': 158, 'barrida': 1, 'disparo': 19, 'tiro': 147, 'fuera': 154, 'individual': 64, 'estrella': 30, 'arbitro': 74, 'deporte': 373, 'boxeo': 121, 'jugador': 391, 'estandar': 0, 'nocaut': 0, 'marcador': 38, 'equipo': 561, 'equipos': 0, 'gol': 800, 'camiseta': 34, 'entrenador': 110, 'desventaja': 11, 'atrapar': 1, 'esquivar': 6, 'registro': 16, 'disparar': 4, 'defensa': 300, 'interior': 30, 'lateral': 18, 'jugadores': 0, 'cancha': 402, 'parada': 31, 'asistente': 3, 'clasificación': 26, 'partido': 331, 'institución': 18, 'juegos': 71, 'goleador': 0, 'infracción': 5}\n",
      "counts_spanish_120_137_1945 {'boxeador': 110, 'entrenamiento': 76, 'centrodelantero': 32, 'opción': 31, 'velocista': 28, 'cuadrilátero': 13, 'guardalínea': 2, 'línea': 156, 'lanzador': 9, 'delantero': 107, 'barrida': 0, 'disparo': 11, 'tiro': 152, 'fuera': 211, 'individual': 47, 'estrella': 37, 'arbitro': 169, 'deporte': 551, 'boxeo': 166, 'jugador': 433, 'estandar': 4, 'nocaut': 1, 'marcador': 24, 'equipo': 705, 'equipos': 0, 'gol': 909, 'camiseta': 50, 'entrenador': 148, 'desventaja': 16, 'atrapar': 2, 'esquivar': 9, 'registro': 6, 'disparar': 9, 'defensa': 284, 'interior': 12, 'lateral': 17, 'jugadores': 0, 'cancha': 475, 'parada': 61, 'asistente': 8, 'clasificación': 23, 'partido': 332, 'institución': 40, 'juegos': 54, 'goleador': 0, 'infracción': 4}\n",
      "counts_spanish_15_27_1942 {'boxeador': 49, 'entrenamiento': 57, 'centrodelantero': 29, 'opción': 22, 'velocista': 0, 'cuadrilátero': 3, 'guardalínea': 0, 'línea': 106, 'lanzador': 6, 'delantero': 81, 'barrida': 0, 'disparo': 0, 'tiro': 59, 'fuera': 69, 'individual': 40, 'estrella': 16, 'arbitro': 72, 'deporte': 393, 'boxeo': 22, 'jugador': 432, 'estandar': 3, 'nocaut': 0, 'marcador': 13, 'equipo': 458, 'equipos': 0, 'gol': 300, 'camiseta': 39, 'entrenador': 76, 'desventaja': 9, 'atrapar': 0, 'esquivar': 0, 'registro': 6, 'disparar': 0, 'defensa': 115, 'interior': 53, 'lateral': 5, 'jugadores': 0, 'cancha': 268, 'parada': 28, 'asistente': 16, 'clasificación': 15, 'partido': 365, 'institución': 57, 'juegos': 27, 'goleador': 0, 'infracción': 1}\n",
      "counts_spanish_329_346_1949 {'boxeador': 83, 'entrenamiento': 79, 'centrodelantero': 29, 'opción': 21, 'velocista': 30, 'cuadrilátero': 5, 'guardalínea': 1, 'línea': 128, 'lanzador': 19, 'delantero': 190, 'barrida': 0, 'disparo': 12, 'tiro': 113, 'fuera': 189, 'individual': 113, 'estrella': 25, 'arbitro': 76, 'deporte': 565, 'boxeo': 93, 'jugador': 444, 'estandar': 0, 'nocaut': 1, 'marcador': 32, 'equipo': 766, 'equipos': 0, 'gol': 723, 'camiseta': 102, 'entrenador': 163, 'desventaja': 21, 'atrapar': 2, 'esquivar': 4, 'registro': 8, 'disparar': 6, 'defensa': 395, 'interior': 19, 'lateral': 12, 'jugadores': 0, 'cancha': 434, 'parada': 43, 'asistente': 7, 'clasificación': 23, 'partido': 381, 'institución': 17, 'juegos': 65, 'goleador': 0, 'infracción': 2}\n",
      "counts_spanish_277_293_1948 {'boxeador': 61, 'entrenamiento': 147, 'centrodelantero': 52, 'opción': 39, 'velocista': 27, 'cuadrilátero': 2, 'guardalínea': 2, 'línea': 94, 'lanzador': 15, 'delantero': 169, 'barrida': 1, 'disparo': 22, 'tiro': 94, 'fuera': 203, 'individual': 64, 'estrella': 30, 'arbitro': 94, 'deporte': 425, 'boxeo': 120, 'jugador': 381, 'estandar': 1, 'nocaut': 0, 'marcador': 44, 'equipo': 513, 'equipos': 0, 'gol': 746, 'camiseta': 61, 'entrenador': 130, 'desventaja': 17, 'atrapar': 3, 'esquivar': 11, 'registro': 22, 'disparar': 6, 'defensa': 327, 'interior': 42, 'lateral': 16, 'jugadores': 0, 'cancha': 345, 'parada': 65, 'asistente': 7, 'clasificación': 55, 'partido': 332, 'institución': 18, 'juegos': 74, 'goleador': 0, 'infracción': 8}\n"
     ]
    }
   ],
   "source": [
    "for key, value in dict_1942_1949_esp.items():\n",
    "    print(key, value)"
   ]
  },
  {
   "cell_type": "code",
   "execution_count": 34,
   "id": "e9e70704",
   "metadata": {},
   "outputs": [
    {
     "name": "stdout",
     "output_type": "stream",
     "text": [
      "counts_english_76_86_1944 {'fighter': 1, 'training': 3, 'centerforward': 0, 'chance': 30, 'sprinter': 14, 'ring': 103, 'lineman': 0, 'line': 41, 'pitchers': 0, 'forward': 39, 'tackle': 6, 'shot': 13, 'kick': 2, 'out': 13, 'single': 17, 'crack': 161, 'referee': 18, 'sport': 61, 'boxing': 1, 'player': 31, 'standard': 8, 'knockout': 1, 'score': 35, 'team': 186, 'teams': 17, 'elgoal': 0, 'jersey': 0, 'coach': 8, 'handicap': 20, 'catch': 0, 'dribbling': 4, 'record': 149, 'shoot': 0, 'back': 35, 'insider': 25, 'winger': 7, 'players': 17, 'field': 12, 'shortstop': 0, 'second': 11, 'ranking': 8, 'match': 194, 'club': 167, 'games': 2, 'centroforward': 0, 'foul': 18}\n",
      "counts_english_43_59_1943 {'fighter': 11, 'training': 1, 'centerforward': 0, 'chance': 39, 'sprinter': 23, 'ring': 129, 'lineman': 3, 'line': 46, 'pitchers': 1, 'forward': 36, 'tackle': 1, 'shot': 34, 'kick': 3, 'out': 23, 'single': 25, 'crack': 392, 'referee': 28, 'sport': 78, 'boxing': 0, 'player': 77, 'standard': 9, 'knockout': 5, 'score': 95, 'team': 247, 'teams': 24, 'elgoal': 2, 'jersey': 1, 'coach': 8, 'handicap': 3, 'catch': 2, 'dribbling': 3, 'record': 254, 'shoot': 1, 'back': 38, 'insider': 36, 'winger': 15, 'players': 41, 'field': 43, 'shortstop': 1, 'second': 13, 'ranking': 20, 'match': 341, 'club': 387, 'games': 5, 'centroforward': 0, 'foul': 21}\n",
      "counts_english_173_189_1946 {'fighter': 0, 'training': 3, 'centerforward': 0, 'chance': 35, 'sprinter': 5, 'ring': 181, 'lineman': 0, 'line': 72, 'pitchers': 0, 'forward': 81, 'tackle': 0, 'shot': 23, 'kick': 0, 'out': 25, 'single': 37, 'crack': 104, 'referee': 52, 'sport': 66, 'boxing': 2, 'player': 50, 'standard': 18, 'knockout': 7, 'score': 115, 'team': 462, 'teams': 44, 'elgoal': 0, 'jersey': 13, 'coach': 12, 'handicap': 16, 'catch': 1, 'dribbling': 10, 'record': 289, 'shoot': 0, 'back': 28, 'insider': 74, 'winger': 43, 'players': 27, 'field': 33, 'shortstop': 0, 'second': 9, 'ranking': 8, 'match': 417, 'club': 340, 'games': 1, 'centroforward': 0, 'foul': 35}\n",
      "counts_english_225_241_1947 {'fighter': 0, 'training': 2, 'centerforward': 0, 'chance': 15, 'sprinter': 12, 'ring': 152, 'lineman': 0, 'line': 56, 'pitchers': 0, 'forward': 75, 'tackle': 0, 'shot': 22, 'kick': 4, 'out': 21, 'single': 31, 'crack': 122, 'referee': 115, 'sport': 61, 'boxing': 0, 'player': 35, 'standard': 25, 'knockout': 1, 'score': 151, 'team': 428, 'teams': 25, 'elgoal': 0, 'jersey': 16, 'coach': 14, 'handicap': 19, 'catch': 7, 'dribbling': 12, 'record': 326, 'shoot': 0, 'back': 27, 'insider': 71, 'winger': 20, 'players': 16, 'field': 91, 'shortstop': 0, 'second': 5, 'ranking': 11, 'match': 332, 'club': 292, 'games': 6, 'centroforward': 0, 'foul': 52}\n",
      "counts_english_15_27_1942 {'fighter': 0, 'training': 3, 'centerforward': 0, 'chance': 16, 'sprinter': 10, 'ring': 72, 'lineman': 0, 'line': 38, 'pitchers': 0, 'forward': 22, 'tackle': 0, 'shot': 14, 'kick': 0, 'out': 16, 'single': 17, 'crack': 129, 'referee': 2, 'sport': 40, 'boxing': 7, 'player': 15, 'standard': 10, 'knockout': 1, 'score': 63, 'team': 369, 'teams': 60, 'elgoal': 2, 'jersey': 2, 'coach': 10, 'handicap': 2, 'catch': 3, 'dribbling': 2, 'record': 176, 'shoot': 1, 'back': 38, 'insider': 17, 'winger': 3, 'players': 6, 'field': 41, 'shortstop': 0, 'second': 15, 'ranking': 5, 'match': 211, 'club': 324, 'games': 3, 'centroforward': 0, 'foul': 5}\n",
      "counts_english_120_137_1945 {'fighter': 7, 'training': 3, 'centerforward': 0, 'chance': 53, 'sprinter': 16, 'ring': 237, 'lineman': 1, 'line': 68, 'pitchers': 0, 'forward': 75, 'tackle': 0, 'shot': 17, 'kick': 2, 'out': 53, 'single': 24, 'crack': 221, 'referee': 63, 'sport': 114, 'boxing': 0, 'player': 87, 'standard': 18, 'knockout': 16, 'score': 135, 'team': 410, 'teams': 38, 'elgoal': 2, 'jersey': 2, 'coach': 37, 'handicap': 17, 'catch': 3, 'dribbling': 18, 'record': 356, 'shoot': 4, 'back': 50, 'insider': 71, 'winger': 18, 'players': 40, 'field': 40, 'shortstop': 0, 'second': 7, 'ranking': 8, 'match': 500, 'club': 402, 'games': 5, 'centroforward': 0, 'foul': 62}\n",
      "counts_english_329_346_1949 {'fighter': 0, 'training': 1, 'centerforward': 0, 'chance': 22, 'sprinter': 0, 'ring': 137, 'lineman': 0, 'line': 55, 'pitchers': 0, 'forward': 63, 'tackle': 0, 'shot': 6, 'kick': 0, 'out': 34, 'single': 24, 'crack': 132, 'referee': 89, 'sport': 50, 'boxing': 0, 'player': 9, 'standard': 20, 'knockout': 7, 'score': 89, 'team': 445, 'teams': 24, 'elgoal': 0, 'jersey': 1, 'coach': 9, 'handicap': 12, 'catch': 14, 'dribbling': 7, 'record': 226, 'shoot': 0, 'back': 95, 'insider': 68, 'winger': 14, 'players': 5, 'field': 25, 'shortstop': 0, 'second': 6, 'ranking': 8, 'match': 255, 'club': 306, 'games': 1, 'centroforward': 0, 'foul': 23}\n",
      "counts_english_277_293_1948 {'fighter': 4, 'training': 3, 'centerforward': 0, 'chance': 20, 'sprinter': 7, 'ring': 157, 'lineman': 0, 'line': 62, 'pitchers': 1, 'forward': 39, 'tackle': 0, 'shot': 14, 'kick': 0, 'out': 26, 'single': 27, 'crack': 105, 'referee': 129, 'sport': 38, 'boxing': 0, 'player': 26, 'standard': 15, 'knockout': 5, 'score': 102, 'team': 451, 'teams': 36, 'elgoal': 0, 'jersey': 7, 'coach': 12, 'handicap': 6, 'catch': 1, 'dribbling': 10, 'record': 229, 'shoot': 3, 'back': 36, 'insider': 78, 'winger': 10, 'players': 20, 'field': 48, 'shortstop': 0, 'second': 10, 'ranking': 12, 'match': 304, 'club': 261, 'games': 6, 'centroforward': 0, 'foul': 43}\n"
     ]
    }
   ],
   "source": [
    "for key, value in dict_1942_1949_eng.items():\n",
    "    print(key, value)"
   ]
  },
  {
   "cell_type": "code",
   "execution_count": 70,
   "id": "1b1eae4a",
   "metadata": {},
   "outputs": [],
   "source": [
    "counts_spanish_329_346_1949 = {'boxeador': 83, 'entrenamiento': 79, 'centrodelantero': 29, 'opción': 21, 'velocista': 30, 'cuadrilátero': 5, 'guardalínea': 1, 'línea': 128, 'lanzador': 19, 'delantero': 190, 'barrida': 0, 'disparo': 12, 'tiro': 113, 'fuera': 189, 'individual': 113, 'estrella': 25, 'arbitro': 76, 'deporte': 565, 'boxeo': 93, 'jugador': 444, 'estandar': 0, 'nocaut': 1, 'marcador': 32, 'equipo': 766, 'equipos': 0, 'gol': 723, 'camiseta': 102, 'entrenador': 163, 'desventaja': 21, 'atrapar': 2, 'esquivar': 4, 'registro': 8, 'disparar': 6, 'defensa': 395, 'interior': 19, 'lateral': 12, 'jugadores': 0, 'cancha': 434, 'parada': 43, 'asistente': 7, 'clasificación': 23, 'partido': 381, 'institución': 17, 'juegos': 65, 'goleador': 0, 'infracción': 2}"
   ]
  },
  {
   "cell_type": "code",
   "execution_count": 71,
   "id": "0947578f",
   "metadata": {},
   "outputs": [],
   "source": [
    "counts_english_329_346_1949 = {'fighter': 0, 'training': 1, 'centerforward': 0, 'chance': 22, 'sprinter': 0, 'ring': 137, 'lineman': 0, 'line': 55, 'pitchers': 0, 'forward': 63, 'tackle': 0, 'shot': 6, 'kick': 0, 'out': 34, 'single': 24, 'crack': 132, 'referee': 89, 'sport': 50, 'boxing': 0, 'player': 9, 'standard': 20, 'knockout': 7, 'score': 89, 'team': 445, 'teams': 24, 'elgoal': 0, 'jersey': 1, 'coach': 9, 'handicap': 12, 'catch': 14, 'dribbling': 7, 'record': 226, 'shoot': 0, 'back': 95, 'insider': 68, 'winger': 14, 'players': 5, 'field': 25, 'shortstop': 0, 'second': 6, 'ranking': 8, 'match': 255, 'club': 306, 'games': 1, 'centroforward': 0, 'foul': 23}"
   ]
  },
  {
   "cell_type": "code",
   "execution_count": 72,
   "id": "eeb1a75a",
   "metadata": {},
   "outputs": [
    {
     "name": "stdout",
     "output_type": "stream",
     "text": [
      "{'fighter': 0, 'training': 0.006802721088435374, 'centerforward': 0, 'chance': 0.5641025641025641, 'sprinter': 0, 'ring': 68.5, 'lineman': 0, 'line': 0.5851063829787234, 'pitchers': 0, 'forward': 0.3727810650887574, 'tackle': 0, 'shot': 0.2727272727272727, 'kick': 0, 'out': 0.16748768472906403, 'single': 0.375, 'crack': 4.4, 'referee': 0.9468085106382979, 'sport': 0.11764705882352941, 'boxing': 0, 'player': 0.023622047244094488, 'standard': 20.0, 'knockout': 0, 'score': 2.022727272727273, 'team': 0.8674463937621832, 'teams': 0, 'elgoal': 0, 'jersey': 0.01639344262295082, 'coach': 0.06923076923076923, 'handicap': 0.7058823529411765, 'catch': 4.666666666666667, 'dribbling': 0.6363636363636364, 'record': 10.272727272727273, 'shoot': 0, 'back': 0.290519877675841, 'insider': 1.619047619047619, 'winger': 0.875, 'players': 0, 'field': 0.07246376811594203, 'shortstop': 0, 'second': 0.8571428571428571, 'ranking': 0.14545454545454545, 'match': 0.7680722891566265, 'club': 17.0, 'games': 0.013513513513513514, 'centroforward': 0, 'foul': 2.875}\n"
     ]
    }
   ],
   "source": [
    "rt_329_346_1949  = {key: None for key in counts_english_329_346_1949}\n",
    "\n",
    "english_values = list(counts_english_329_346_1949.values())\n",
    "spanish_values = list(counts_spanish_277_293_1948.values())\n",
    "\n",
    "ratio_long = []\n",
    "f = 0\n",
    "for n in english_values:\n",
    "    if english_values[f] == 0 or spanish_values[f] == 0:\n",
    "        ratio_long.append(0) \n",
    "    else:\n",
    "        nume = english_values[f] / spanish_values[f]\n",
    "        ratio_long.append(nume)\n",
    "    f += 1\n",
    "    \n",
    "# Iterate over the keys in the dictionary and assign values from the list to the corresponding keys\n",
    "for i, key in enumerate(rt_329_346_1949.keys()):\n",
    "    rt_329_346_1949[key] = ratio_long[i]\n",
    "df_rt_329_346_1949= pd.DataFrame(rt_329_346_1949 , index=[0])\n",
    "print(rt_329_346_1949)"
   ]
  },
  {
   "cell_type": "code",
   "execution_count": 46,
   "id": "d7356133",
   "metadata": {},
   "outputs": [
    {
     "data": {
      "text/html": [
       "<div>\n",
       "<style scoped>\n",
       "    .dataframe tbody tr th:only-of-type {\n",
       "        vertical-align: middle;\n",
       "    }\n",
       "\n",
       "    .dataframe tbody tr th {\n",
       "        vertical-align: top;\n",
       "    }\n",
       "\n",
       "    .dataframe thead th {\n",
       "        text-align: right;\n",
       "    }\n",
       "</style>\n",
       "<table border=\"1\" class=\"dataframe\">\n",
       "  <thead>\n",
       "    <tr style=\"text-align: right;\">\n",
       "      <th></th>\n",
       "      <th>fighter</th>\n",
       "      <th>training</th>\n",
       "      <th>centerforward</th>\n",
       "      <th>chance</th>\n",
       "      <th>sprinter</th>\n",
       "      <th>ring</th>\n",
       "      <th>lineman</th>\n",
       "      <th>line</th>\n",
       "      <th>pitchers</th>\n",
       "      <th>forward</th>\n",
       "      <th>...</th>\n",
       "      <th>players</th>\n",
       "      <th>field</th>\n",
       "      <th>shortstop</th>\n",
       "      <th>second</th>\n",
       "      <th>ranking</th>\n",
       "      <th>match</th>\n",
       "      <th>club</th>\n",
       "      <th>games</th>\n",
       "      <th>centroforward</th>\n",
       "      <th>foul</th>\n",
       "    </tr>\n",
       "  </thead>\n",
       "  <tbody>\n",
       "    <tr>\n",
       "      <th>0</th>\n",
       "      <td>0.134146</td>\n",
       "      <td>0.012658</td>\n",
       "      <td>0</td>\n",
       "      <td>2.4375</td>\n",
       "      <td>1.769231</td>\n",
       "      <td>16.125</td>\n",
       "      <td>3.0</td>\n",
       "      <td>0.234694</td>\n",
       "      <td>0.076923</td>\n",
       "      <td>0.220859</td>\n",
       "      <td>...</td>\n",
       "      <td>0</td>\n",
       "      <td>0.089583</td>\n",
       "      <td>0.017857</td>\n",
       "      <td>0.764706</td>\n",
       "      <td>0.869565</td>\n",
       "      <td>0.677932</td>\n",
       "      <td>5.776119</td>\n",
       "      <td>0.151515</td>\n",
       "      <td>0</td>\n",
       "      <td>7.0</td>\n",
       "    </tr>\n",
       "  </tbody>\n",
       "</table>\n",
       "<p>1 rows × 46 columns</p>\n",
       "</div>"
      ],
      "text/plain": [
       "    fighter  training  centerforward  chance  sprinter    ring  lineman  \\\n",
       "0  0.134146  0.012658              0  2.4375  1.769231  16.125      3.0   \n",
       "\n",
       "       line  pitchers   forward  ...  players     field  shortstop    second  \\\n",
       "0  0.234694  0.076923  0.220859  ...        0  0.089583   0.017857  0.764706   \n",
       "\n",
       "    ranking     match      club     games  centroforward  foul  \n",
       "0  0.869565  0.677932  5.776119  0.151515              0   7.0  \n",
       "\n",
       "[1 rows x 46 columns]"
      ]
     },
     "execution_count": 46,
     "metadata": {},
     "output_type": "execute_result"
    }
   ],
   "source": [
    "df_rt_15_27_1942\n",
    "df_rt_43_59_1943 \n",
    "df_rt_76_86_1944\n",
    "df_rt_120_137_1945\n",
    "df_rt_173_189_1946\n",
    "df_rt_225_241_1947\n",
    "df_rt_277_293_1948\n",
    "df_rt_329_346_1949"
   ]
  },
  {
   "cell_type": "code",
   "execution_count": 73,
   "id": "e664b8c8",
   "metadata": {},
   "outputs": [
    {
     "data": {
      "text/html": [
       "<div>\n",
       "<style scoped>\n",
       "    .dataframe tbody tr th:only-of-type {\n",
       "        vertical-align: middle;\n",
       "    }\n",
       "\n",
       "    .dataframe tbody tr th {\n",
       "        vertical-align: top;\n",
       "    }\n",
       "\n",
       "    .dataframe thead th {\n",
       "        text-align: right;\n",
       "    }\n",
       "</style>\n",
       "<table border=\"1\" class=\"dataframe\">\n",
       "  <thead>\n",
       "    <tr style=\"text-align: right;\">\n",
       "      <th></th>\n",
       "      <th>fighter</th>\n",
       "      <th>training</th>\n",
       "      <th>centerforward</th>\n",
       "      <th>chance</th>\n",
       "      <th>sprinter</th>\n",
       "      <th>ring</th>\n",
       "      <th>lineman</th>\n",
       "      <th>line</th>\n",
       "      <th>pitchers</th>\n",
       "      <th>forward</th>\n",
       "      <th>...</th>\n",
       "      <th>players</th>\n",
       "      <th>field</th>\n",
       "      <th>shortstop</th>\n",
       "      <th>second</th>\n",
       "      <th>ranking</th>\n",
       "      <th>match</th>\n",
       "      <th>club</th>\n",
       "      <th>games</th>\n",
       "      <th>centroforward</th>\n",
       "      <th>foul</th>\n",
       "    </tr>\n",
       "  </thead>\n",
       "  <tbody>\n",
       "    <tr>\n",
       "      <th>0</th>\n",
       "      <td>0</td>\n",
       "      <td>0.006803</td>\n",
       "      <td>0</td>\n",
       "      <td>0.564103</td>\n",
       "      <td>0</td>\n",
       "      <td>68.5</td>\n",
       "      <td>0</td>\n",
       "      <td>0.585106</td>\n",
       "      <td>0</td>\n",
       "      <td>0.372781</td>\n",
       "      <td>...</td>\n",
       "      <td>0</td>\n",
       "      <td>0.072464</td>\n",
       "      <td>0</td>\n",
       "      <td>0.857143</td>\n",
       "      <td>0.145455</td>\n",
       "      <td>0.768072</td>\n",
       "      <td>17.0</td>\n",
       "      <td>0.013514</td>\n",
       "      <td>0</td>\n",
       "      <td>2.875</td>\n",
       "    </tr>\n",
       "  </tbody>\n",
       "</table>\n",
       "<p>1 rows × 46 columns</p>\n",
       "</div>"
      ],
      "text/plain": [
       "   fighter  training  centerforward    chance  sprinter  ring  lineman  \\\n",
       "0        0  0.006803              0  0.564103         0  68.5        0   \n",
       "\n",
       "       line  pitchers   forward  ...  players     field  shortstop    second  \\\n",
       "0  0.585106         0  0.372781  ...        0  0.072464          0  0.857143   \n",
       "\n",
       "    ranking     match  club     games  centroforward   foul  \n",
       "0  0.145455  0.768072  17.0  0.013514              0  2.875  \n",
       "\n",
       "[1 rows x 46 columns]"
      ]
     },
     "execution_count": 73,
     "metadata": {},
     "output_type": "execute_result"
    }
   ],
   "source": [
    "df_rt_329_346_1949"
   ]
  },
  {
   "cell_type": "code",
   "execution_count": 75,
   "id": "493c3cc9",
   "metadata": {},
   "outputs": [],
   "source": [
    "rt_dicts_1942_1949 = [rt_15_27_1942, rt_43_59_1943, rt_76_86_1944, rt_120_137_1945, rt_173_189_1946, rt_225_241_1947, rt_277_293_1948, rt_329_346_1949]"
   ]
  },
  {
   "cell_type": "code",
   "execution_count": 85,
   "id": "630c1a0b",
   "metadata": {},
   "outputs": [],
   "source": [
    "#Open a file in write mode for the english dict\n",
    "with open(\"/Users/hernanadasme/Projects/estadio_1940_1980/ratios_dicts_1942_1949/rt_277_293_1948.pickle\", 'wb') as f:\n",
    "    #Write the dictionary to the file using pickle.dump\n",
    "    pickle.dump(rt_277_293_1948, f)"
   ]
  }
 ],
 "metadata": {
  "kernelspec": {
   "display_name": "Python 3 (ipykernel)",
   "language": "python",
   "name": "python3"
  },
  "language_info": {
   "codemirror_mode": {
    "name": "ipython",
    "version": 3
   },
   "file_extension": ".py",
   "mimetype": "text/x-python",
   "name": "python",
   "nbconvert_exporter": "python",
   "pygments_lexer": "ipython3",
   "version": "3.9.7"
  }
 },
 "nbformat": 4,
 "nbformat_minor": 5
}
