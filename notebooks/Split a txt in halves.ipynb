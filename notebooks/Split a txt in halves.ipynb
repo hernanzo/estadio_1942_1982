{
 "cells": [
  {
   "cell_type": "code",
   "execution_count": 1,
   "id": "675c122c",
   "metadata": {},
   "outputs": [],
   "source": [
    "import re"
   ]
  },
  {
   "cell_type": "code",
   "execution_count": 227,
   "id": "948013a5",
   "metadata": {},
   "outputs": [
    {
     "ename": "FileNotFoundError",
     "evalue": "[Errno 2] No such file or directory: '/Users/hernanadasme/Projects/estadio_1940_1980/estadio_txt/1940_1949/estadio_59_75_1944_1.txt'",
     "output_type": "error",
     "traceback": [
      "\u001b[0;31m---------------------------------------------------------------------------\u001b[0m",
      "\u001b[0;31mFileNotFoundError\u001b[0m                         Traceback (most recent call last)",
      "\u001b[0;32m/var/folders/my/z9q2lngj4y3g_118mj64q0140000gn/T/ipykernel_5630/2487938275.py\u001b[0m in \u001b[0;36m<module>\u001b[0;34m\u001b[0m\n\u001b[0;32m----> 1\u001b[0;31m \u001b[0;32mwith\u001b[0m \u001b[0mopen\u001b[0m\u001b[0;34m(\u001b[0m\u001b[0;34mr'/Users/hernanadasme/Projects/estadio_1940_1980/estadio_txt/1940_1949/estadio_59_75_1944_1.txt'\u001b[0m\u001b[0;34m,\u001b[0m \u001b[0mencoding\u001b[0m\u001b[0;34m=\u001b[0m\u001b[0;34m'utf-8-sig'\u001b[0m\u001b[0;34m)\u001b[0m \u001b[0;32mas\u001b[0m \u001b[0mes_1944_2\u001b[0m\u001b[0;34m:\u001b[0m\u001b[0;34m\u001b[0m\u001b[0;34m\u001b[0m\u001b[0m\n\u001b[0m\u001b[1;32m      2\u001b[0m     \u001b[0mes_1944_2\u001b[0m \u001b[0;34m=\u001b[0m \u001b[0mes_1944_2\u001b[0m\u001b[0;34m.\u001b[0m\u001b[0mread\u001b[0m\u001b[0;34m(\u001b[0m\u001b[0;34m)\u001b[0m\u001b[0;34m\u001b[0m\u001b[0;34m\u001b[0m\u001b[0m\n",
      "\u001b[0;31mFileNotFoundError\u001b[0m: [Errno 2] No such file or directory: '/Users/hernanadasme/Projects/estadio_1940_1980/estadio_txt/1940_1949/estadio_59_75_1944_1.txt'"
     ]
    }
   ],
   "source": [
    "with open(r'/Users/hernanadasme/Projects/estadio_1940_1980/estadio_txt/1940_1949/estadio_59_75_1944_1.txt', encoding='utf-8-sig') as es_1944_2: \n",
    "    es_1944_2 = es_1944_2.read()"
   ]
  },
  {
   "cell_type": "code",
   "execution_count": 224,
   "id": "73d16534",
   "metadata": {},
   "outputs": [],
   "source": [
    "\n",
    "# Find the index of the middle character\n",
    "middle_index = len(es_1944_2) // 2\n",
    "\n",
    "# Split the string into two halves\n",
    "first_half = es_1944_2[:middle_index]\n",
    "second_half = es_1944_2[middle_index:]\n"
   ]
  },
  {
   "cell_type": "code",
   "execution_count": 225,
   "id": "fe26c774",
   "metadata": {},
   "outputs": [
    {
     "data": {
      "text/plain": [
       "995178"
      ]
     },
     "execution_count": 225,
     "metadata": {},
     "output_type": "execute_result"
    }
   ],
   "source": [
    "len(first_half)"
   ]
  },
  {
   "cell_type": "code",
   "execution_count": 226,
   "id": "dcb5c635",
   "metadata": {},
   "outputs": [],
   "source": [
    "#save to selected path\n",
    "path = r'/Users/hernanadasme/Projects/estadio_1940_1980/estadio_txt/1940_1949/estadio_59_75_1944_1.txt'\n",
    "\n",
    "with open(path, 'w') as txt_file:\n",
    "    txt_file.write(second_half)"
   ]
  },
  {
   "cell_type": "code",
   "execution_count": null,
   "id": "c9e334ec",
   "metadata": {},
   "outputs": [],
   "source": []
  }
 ],
 "metadata": {
  "kernelspec": {
   "display_name": "Python 3 (ipykernel)",
   "language": "python",
   "name": "python3"
  },
  "language_info": {
   "codemirror_mode": {
    "name": "ipython",
    "version": 3
   },
   "file_extension": ".py",
   "mimetype": "text/x-python",
   "name": "python",
   "nbconvert_exporter": "python",
   "pygments_lexer": "ipython3",
   "version": "3.9.7"
  }
 },
 "nbformat": 4,
 "nbformat_minor": 5
}
